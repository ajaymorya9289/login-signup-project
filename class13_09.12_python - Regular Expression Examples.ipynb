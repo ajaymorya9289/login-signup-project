{
 "cells": [
  {
   "cell_type": "markdown",
   "id": "confused-service",
   "metadata": {},
   "source": [
    "# RegEx"
   ]
  },
  {
   "cell_type": "markdown",
   "id": "civil-broadway",
   "metadata": {},
   "source": [
    "A regular expression is a special sequence of characters that helps you match or find other strings or sets of strings, using a specialized syntax held in a pattern."
   ]
  },
  {
   "cell_type": "code",
   "execution_count": 1,
   "id": "knowing-privacy",
   "metadata": {},
   "outputs": [],
   "source": [
    "import re    # re stands for regular expression"
   ]
  },
  {
   "cell_type": "code",
   "execution_count": 2,
   "id": "russian-variation",
   "metadata": {},
   "outputs": [
    {
     "name": "stdout",
     "output_type": "stream",
     "text": [
      "Hello\n",
      "World\n"
     ]
    }
   ],
   "source": [
    "print(\"Hello\\nWorld\")        # \\n Escape Character"
   ]
  },
  {
   "cell_type": "code",
   "execution_count": 4,
   "id": "legitimate-georgia",
   "metadata": {},
   "outputs": [
    {
     "name": "stdout",
     "output_type": "stream",
     "text": [
      "Hello\\nWorld\n"
     ]
    }
   ],
   "source": [
    "print(r'Hello\\nWorld')       #Raw String Literal"
   ]
  },
  {
   "cell_type": "code",
   "execution_count": 8,
   "id": "broadband-works",
   "metadata": {},
   "outputs": [
    {
     "name": "stdout",
     "output_type": "stream",
     "text": [
      "Hello\\bWorld\n"
     ]
    }
   ],
   "source": [
    "print(r'Hello\\bWorld')         # backspace"
   ]
  },
  {
   "cell_type": "code",
   "execution_count": 5,
   "id": "powerful-budapest",
   "metadata": {},
   "outputs": [
    {
     "name": "stdout",
     "output_type": "stream",
     "text": [
      "abcdefghijklmnopqrstuvwxyz\n",
      "ABCDEFGHIJKLMNOPQRSTUVWXYZ\n",
      "some.one@gmail.com\n",
      "anything123@gmail.com\n",
      "@gmail.com\n",
      "9354-328-885\n",
      "9354.328.885\n",
      "Mr. Someone\n",
      "Ms Anything\n"
     ]
    }
   ],
   "source": [
    "x = \"\"\"abcdefghijklmnopqrstuvwxyz\n",
    "ABCDEFGHIJKLMNOPQRSTUVWXYZ\n",
    "some.one@gmail.com\n",
    "anything123@gmail.com\n",
    "@gmail.com\n",
    "9354-328-885\n",
    "9354.328.885\n",
    "Mr. Someone\n",
    "Ms Anything\"\"\"\n",
    "print(x)"
   ]
  },
  {
   "cell_type": "code",
   "execution_count": 74,
   "id": "correct-toilet",
   "metadata": {},
   "outputs": [
    {
     "data": {
      "text/plain": [
       "['9354-328-885', '9354.328.885']"
      ]
     },
     "execution_count": 74,
     "metadata": {},
     "output_type": "execute_result"
    }
   ],
   "source": [
    "re.findall('[\\d]{4}[-.][\\d]{3}[-.][\\d]{3}', x)"
   ]
  },
  {
   "cell_type": "code",
   "execution_count": 11,
   "id": "assisted-fleet",
   "metadata": {},
   "outputs": [
    {
     "name": "stdout",
     "output_type": "stream",
     "text": [
      "['E@gmail.com', 'e@gmail.com']\n"
     ]
    }
   ],
   "source": [
    "text = \"Hi, my name is Something Anything and my email address is somE@gmail.com harshil.one@gmail.com @gmail.com\"\n",
    "xr = re.findall('[a-zA-Z]@gmail.com', text)\n",
    "print(xr)\n",
    "\n",
    "\n",
    "# [] represents a single character from the mentioned characters"
   ]
  },
  {
   "cell_type": "code",
   "execution_count": 12,
   "id": "public-weekly",
   "metadata": {},
   "outputs": [
    {
     "name": "stdout",
     "output_type": "stream",
     "text": [
      "['mE@gmail.com', 'ne@gmail.com']\n"
     ]
    }
   ],
   "source": [
    "text = \"Hi, my name is Something Anything and my email address is somE@gmail.com harshil.one@gmail.com @gmail.com\"\n",
    "xr = re.findall('[a-zA-Z][a-zA-Z]@gmail.com', text)\n",
    "print(xr)"
   ]
  },
  {
   "cell_type": "code",
   "execution_count": 13,
   "id": "active-eagle",
   "metadata": {},
   "outputs": [
    {
     "name": "stdout",
     "output_type": "stream",
     "text": [
      "['somE@gmail.com', 'one@gmail.com']\n"
     ]
    }
   ],
   "source": [
    "text = \"Hi, my name is Something Anything and my email address is somE@gmail.com harshil.one@gmail.com @gmail.com\"\n",
    "xr = re.findall('[a-zA-Z]+@gmail.com', text)\n",
    "print(xr)\n",
    "\n",
    "\n",
    "# # Quantifiers\n",
    "# + 1 or more\n",
    "# * 0 or more\n",
    "# ? 0 or 1\n",
    "# {} specific number of characters or range"
   ]
  },
  {
   "cell_type": "code",
   "execution_count": 15,
   "id": "fundamental-columbus",
   "metadata": {},
   "outputs": [
    {
     "name": "stdout",
     "output_type": "stream",
     "text": [
      "['somE@gmail.com', 'harshil.one@gmail.com', '@gmail.com']\n"
     ]
    }
   ],
   "source": [
    "text = \"Hi, my name is Something Anything and my email address is somE@gmail.com harshil.one@gmail.com @gmail.com\"\n",
    "xr = re.findall('[a-zA-Z.]*@gmail.com', text)\n",
    "print(xr)"
   ]
  },
  {
   "cell_type": "code",
   "execution_count": 44,
   "id": "usual-buddy",
   "metadata": {},
   "outputs": [
    {
     "name": "stdout",
     "output_type": "stream",
     "text": [
      "['omE@gmail.com', 'one@gmail.com']\n"
     ]
    }
   ],
   "source": [
    "text = \"Hi, my name is Something Anything and my email address is somE@gmail.com harshil.one@gmail.com @gmail.com\"\n",
    "xr = re.findall('[a-zA-Z.]{3}@gmail.com', text)\n",
    "print(xr)"
   ]
  },
  {
   "cell_type": "code",
   "execution_count": 77,
   "id": "presidential-passing",
   "metadata": {},
   "outputs": [
    {
     "name": "stdout",
     "output_type": "stream",
     "text": [
      "['somE@gmail.com', 'har27_shil.one@gmail.com']\n"
     ]
    }
   ],
   "source": [
    "text = \"Hi, my name is Something Anything and my email address is somE@gmail.com har27_shil.one@gmail.com @gmail.com\"\n",
    "xr = re.findall('[\\w.]{3,}@gmail.com', text)   # \\w is equivalent to A-Za-z0-9_\n",
    "print(xr)"
   ]
  },
  {
   "cell_type": "code",
   "execution_count": 31,
   "id": "based-organic",
   "metadata": {},
   "outputs": [
    {
     "name": "stdout",
     "output_type": "stream",
     "text": [
      "9354-328-885\n",
      "9354.328.885\n",
      "Mr. Someone\n",
      "Mr Anything\n"
     ]
    }
   ],
   "source": [
    "x1 = '''9354-328-885\n",
    "9354.328.885\n",
    "Mr. Someone\n",
    "Mr Anything'''\n",
    "print(x1)"
   ]
  },
  {
   "cell_type": "code",
   "execution_count": 33,
   "id": "apart-excuse",
   "metadata": {},
   "outputs": [
    {
     "data": {
      "text/plain": [
       "['Mr. Someone', 'Mr Anything']"
      ]
     },
     "execution_count": 33,
     "metadata": {},
     "output_type": "execute_result"
    }
   ],
   "source": [
    "re.findall('Mr[.]? [A-Z][a-z]+', x1)"
   ]
  },
  {
   "cell_type": "code",
   "execution_count": 3,
   "id": "continent-weather",
   "metadata": {},
   "outputs": [
    {
     "data": {
      "text/plain": [
       "['Mr. Someone', 'Ms Anything']"
      ]
     },
     "execution_count": 3,
     "metadata": {},
     "output_type": "execute_result"
    }
   ],
   "source": [
    "x2 = '''9354-328-885\n",
    "9354.328.885\n",
    "Mr. Someone\n",
    "Ms Anything'''\n",
    "re.findall('M(?:r|s)[.]? [A-Z][a-z]+', x2)\n",
    "\n",
    "\n",
    "# () represents a group"
   ]
  },
  {
   "cell_type": "code",
   "execution_count": 49,
   "id": "fabulous-truth",
   "metadata": {},
   "outputs": [
    {
     "name": "stdout",
     "output_type": "stream",
     "text": [
      "['somE@gmail.com', 'har27shil.one@gmail.com']\n"
     ]
    }
   ],
   "source": [
    "text = \"Hi, my name is Something Anything and my email address is somE@gmail.com har27shil.one@gmail.com @gmail.com\"\n",
    "xr = re.findall('[a-zA-Z0-9.]+@gmail[.]com', text)\n",
    "print(xr)"
   ]
  },
  {
   "cell_type": "code",
   "execution_count": 73,
   "id": "cooked-somalia",
   "metadata": {},
   "outputs": [
    {
     "data": {
      "text/plain": [
       "['ab..e']"
      ]
     },
     "execution_count": 73,
     "metadata": {},
     "output_type": "execute_result"
    }
   ],
   "source": [
    "x3 = \"ab..e ab7.e hello\"\n",
    "re.findall('ab\\.\\.e', x3)"
   ]
  },
  {
   "cell_type": "code",
   "execution_count": 56,
   "id": "unlike-texture",
   "metadata": {},
   "outputs": [
    {
     "name": "stdout",
     "output_type": "stream",
     "text": [
      "HelloWorld\n"
     ]
    }
   ],
   "source": [
    "print('HelloWorld')"
   ]
  },
  {
   "cell_type": "code",
   "execution_count": 57,
   "id": "dynamic-employment",
   "metadata": {},
   "outputs": [
    {
     "name": "stdout",
     "output_type": "stream",
     "text": [
      "Hello\n",
      "World\n"
     ]
    }
   ],
   "source": [
    "print('Hello\\nWorld')"
   ]
  },
  {
   "cell_type": "code",
   "execution_count": 58,
   "id": "emotional-cartoon",
   "metadata": {},
   "outputs": [
    {
     "name": "stdout",
     "output_type": "stream",
     "text": [
      "Hello\\nWorld\n"
     ]
    }
   ],
   "source": [
    "print('Hello\\\\nWorld')"
   ]
  },
  {
   "cell_type": "code",
   "execution_count": 70,
   "id": "laughing-intersection",
   "metadata": {},
   "outputs": [
    {
     "data": {
      "text/plain": [
       "['Hi']"
      ]
     },
     "execution_count": 70,
     "metadata": {},
     "output_type": "execute_result"
    }
   ],
   "source": [
    "x4 = \"\"\"Hi Someone,\n",
    "How are you?\n",
    "\n",
    "Regards\n",
    "Harshil\"\"\"\n",
    "re.findall('^[A-Za-z]+', x4)"
   ]
  },
  {
   "cell_type": "code",
   "execution_count": 69,
   "id": "increased-deputy",
   "metadata": {},
   "outputs": [
    {
     "data": {
      "text/plain": [
       "['Harshil']"
      ]
     },
     "execution_count": 69,
     "metadata": {},
     "output_type": "execute_result"
    }
   ],
   "source": [
    "x4 = \"\"\"3Hi Someone,\n",
    "How are you?\n",
    "\n",
    "Regards\n",
    "Harshil\"\"\"\n",
    "re.findall('[A-Za-z]+$', x4)"
   ]
  },
  {
   "cell_type": "markdown",
   "id": "affected-selection",
   "metadata": {},
   "source": [
    "### Metacharacters\n",
    "Metacharacters are characters with a special meaning:"
   ]
  },
  {
   "cell_type": "code",
   "execution_count": null,
   "id": "defensive-electric",
   "metadata": {},
   "outputs": [],
   "source": [
    "# []\tA single character which is a subset of characters\t\"[a-m]\"\t\n",
    "# \\\tSignals a special sequence (can also be used to escape special characters)\t\"\\d\"\t\n",
    "# .\tAny character (except newline character)\t\"he..o\"\t\n",
    "# ^\tStarts with\t\"^hello\"\t   caret symbol\n",
    "# $\tEnds with\t\"planet$\"\t\n",
    "# |\tEither or\t\"falls|stays\"\t\n",
    "# ()\tCapture and group\n",
    "\n",
    "# Quantifiers\n",
    "# *\tZero or more occurrences\t\"he.*o\"\t\n",
    "# +\tOne or more occurrences\t\"he.+o\"\t\n",
    "# ?\tZero or one occurrences\t\"he.?o\"\t\n",
    "# {2}\tExactly the specified number of occurrences\t\"hel{2}o\"\t\"hello\"\n",
    "# {1,34}\tSpecified Range of occurrences\n",
    "#     {3,}\t 3 till infinite characters\n",
    "#     {, 10}\t Minimum 0 to max of 10 characters"
   ]
  },
  {
   "cell_type": "markdown",
   "id": "fossil-cargo",
   "metadata": {},
   "source": [
    "### Sets\n",
    "A set is a set of characters inside a pair of square brackets [] with a special meaning:"
   ]
  },
  {
   "cell_type": "code",
   "execution_count": null,
   "id": "rubber-capacity",
   "metadata": {},
   "outputs": [],
   "source": [
    "# [arn]\tReturns a match where one of the specified characters ('a' or 'r' or 'n') are present\t\n",
    "# [a-n]\tReturns a match for any lower case character, alphabetically between a and n\t\n",
    "# [^arn]\tReturns a match for any character EXCEPT a, r, and n\t\n",
    "# [0123]\tReturns a match where any of the specified digits (0, 1, 2, or 3) are present\t\n",
    "# [0-9]\tReturns a match for any digit between 0 and 9\t\n",
    "# [0-5][0-9]\tReturns a match for any two-digit numbers from 00 and 59\t\n",
    "# [a-zA-Z]\tReturns a match for any character alphabetically between a and z, \n",
    "#           lower case OR upper case\t\n",
    "# [+]\tIn sets, +, *, ., |, (), $,{} has no special meaning, \n",
    "#         so [+] means: return a match for any + character in the string"
   ]
  },
  {
   "cell_type": "markdown",
   "id": "distributed-burlington",
   "metadata": {},
   "source": [
    "### Special Sequences\n",
    "A special sequence is a \\ followed by one of the characters in the list below, and has a special meaning:"
   ]
  },
  {
   "cell_type": "code",
   "execution_count": null,
   "id": "weekly-wiring",
   "metadata": {},
   "outputs": [],
   "source": [
    "# \\A\tReturns a match if the specified characters are at the beginning of the string\t\"\\AThe\"\t\n",
    "# \\b\tReturns a match where the specified characters are at the beginning or at the end of a word \tr\"\\bain\" r\"ain\\b\"\t\n",
    "# \\B\tReturns a match where the specified characters are present, but NOT at the beginning \n",
    "#      (or at the end) of a word (the \"r\" in the beginning is making sure that the string is being \n",
    "#      treated as a \"raw string\")\tr\"\\Bain\" r\"ain\\B\"\t\n",
    "# \\d\tReturns a match where the string contains digits (numbers from 0-9)\t\"\\d\"\t\n",
    "# \\D\tReturns a match where the string DOES NOT contain digits\t\"\\D\"\t\n",
    "# \\s\tReturns a match where the string contains a white space character\t\"\\s\"\t\n",
    "# \\S\tReturns a match where the string DOES NOT contain a white space character\t\"\\S\"\t\n",
    "# \\w\tReturns a match where the string contains any word characters \n",
    "#        (characters from a to Z, digits from 0-9, and the underscore _ character)\t\"\\w\"\t\n",
    "# \\W\tReturns a match where the string DOES NOT contain any word characters\t\"\\W\"\t\n",
    "# \\Z\tReturns a match if the specified characters are at the end of the string\t\"Spain\\Z\""
   ]
  },
  {
   "cell_type": "markdown",
   "id": "silent-guarantee",
   "metadata": {},
   "source": [
    "### Functions/Methods in re\n",
    "- re.match - return match object if pattern is found in the beginning of the string, else returns None\n",
    "- re.search - return match object for first occurence of the pattern in the string else returns None.\n",
    "- re.findall - returns a list of all the matches corresponding to the given pattern else returns empty list\n",
    "- re.split - returns a list of strings splitted from the given pattern/separator\n",
    "- re.sub - substitute the pattern in the string\n",
    "- re.finditer - Creates an iterator on the matches."
   ]
  },
  {
   "cell_type": "code",
   "execution_count": 6,
   "id": "careful-sellers",
   "metadata": {},
   "outputs": [
    {
     "name": "stdout",
     "output_type": "stream",
     "text": [
      "abcdefghijklmnopqrstuvwxyz\n",
      "ABCDEFGHIJKLMNOPQRSTUVWXYZ\n",
      "some.one@gmail.com\n",
      "anything123@gmail.com\n",
      "@gmail.com\n",
      "9354-328-885\n",
      "9354.328.885\n",
      "Mr. Someone\n",
      "Ms Anything\n"
     ]
    }
   ],
   "source": [
    "print(x)"
   ]
  },
  {
   "cell_type": "code",
   "execution_count": 19,
   "id": "acting-triangle",
   "metadata": {},
   "outputs": [
    {
     "name": "stdout",
     "output_type": "stream",
     "text": [
      "<re.Match object; span=(0, 26), match='abcdefghijklmnopqrstuvwxyz'>\n",
      "(0, 26)\n",
      "abcdefghijklmnopqrstuvwxyz\n"
     ]
    }
   ],
   "source": [
    "res = re.match('[a-z]+', x)\n",
    "print(res)\n",
    "\n",
    "if res != None:\n",
    "    print(res.span())\n",
    "    print(res.group(0))"
   ]
  },
  {
   "cell_type": "code",
   "execution_count": 125,
   "id": "previous-shock",
   "metadata": {},
   "outputs": [
    {
     "name": "stdout",
     "output_type": "stream",
     "text": [
      "<re.Match object; span=(0, 1), match='a'>\n",
      "(0, 1)\n",
      "a\n"
     ]
    }
   ],
   "source": [
    "res = re.match('[aeiou]', x)\n",
    "print(res)\n",
    "if res != None:\n",
    "    print(res.span())\n",
    "    print(res.group(0))"
   ]
  },
  {
   "cell_type": "code",
   "execution_count": 60,
   "id": "proved-channel",
   "metadata": {
    "scrolled": true
   },
   "outputs": [],
   "source": [
    "x = \"\"\"abcdefghijklmnopqrstuvwxyz\n",
    "ABCDEFGHIJKLMNOPQRSTUVWXYZ\n",
    "some.one@gmail.com\n",
    "anything123@gmail.com\n",
    "12345-67890-123\n",
    "9354-328-885\n",
    "9354.328.885\n",
    "Mr. Someone\n",
    "Mr. Anything\"\"\""
   ]
  },
  {
   "cell_type": "code",
   "execution_count": 28,
   "id": "instant-progress",
   "metadata": {},
   "outputs": [
    {
     "name": "stdout",
     "output_type": "stream",
     "text": [
      "<callable_iterator object at 0x0000018A2CAC5AF0>\n",
      "(106, 118)\n",
      "9354-328-885\n",
      "\n",
      "(119, 131)\n",
      "9354.328.885\n",
      "\n"
     ]
    }
   ],
   "source": [
    "regex = \"[\\d]{4}[.-][\\d]{3}[-.][\\d]{3}\"\n",
    "s = re.finditer(regex, x)\n",
    "print(s)\n",
    "for i in s:\n",
    "    print(i.span())\n",
    "    print(i.group())\n",
    "    print()"
   ]
  },
  {
   "cell_type": "code",
   "execution_count": 134,
   "id": "downtown-newport",
   "metadata": {},
   "outputs": [
    {
     "name": "stdout",
     "output_type": "stream",
     "text": [
      "<re.Match object; span=(95, 110), match='12345-67890-123'>\n"
     ]
    }
   ],
   "source": [
    "regex = r\"[\\d]+-[\\d]+-[\\d]+\"\n",
    "s = re.search(regex, x)\n",
    "print(s)"
   ]
  },
  {
   "cell_type": "code",
   "execution_count": 128,
   "id": "norman-completion",
   "metadata": {},
   "outputs": [
    {
     "name": "stdout",
     "output_type": "stream",
     "text": [
      "HelloWolrd\n"
     ]
    }
   ],
   "source": [
    "print('HelloWolrd')"
   ]
  },
  {
   "cell_type": "code",
   "execution_count": 129,
   "id": "brief-costs",
   "metadata": {},
   "outputs": [
    {
     "name": "stdout",
     "output_type": "stream",
     "text": [
      "Hello\bWolrd\n"
     ]
    }
   ],
   "source": [
    "print('Hello\\bWolrd')               # \\b means backspace"
   ]
  },
  {
   "cell_type": "code",
   "execution_count": 130,
   "id": "average-second",
   "metadata": {},
   "outputs": [
    {
     "name": "stdout",
     "output_type": "stream",
     "text": [
      "Hello\\bWolrd\n"
     ]
    }
   ],
   "source": [
    "print(r'Hello\\bWolrd')               # \\b means backspace"
   ]
  },
  {
   "cell_type": "code",
   "execution_count": null,
   "id": "motivated-service",
   "metadata": {},
   "outputs": [],
   "source": [
    "strin = \"My name is Harshil. My contact number is 9354328885 and I was born on 12th November 2020 in Pune.\"\n",
    "regex = ? plus some code \n",
    "Output = ['Harshil', '9354328855', '12th November 2020', 'Pune']"
   ]
  },
  {
   "cell_type": "code",
   "execution_count": null,
   "id": "upper-christmas",
   "metadata": {},
   "outputs": [],
   "source": [
    "print(x)"
   ]
  },
  {
   "cell_type": "code",
   "execution_count": null,
   "id": "interstate-right",
   "metadata": {},
   "outputs": [],
   "source": [
    "res = re.match('abcdefghi', x)\n",
    "print(res)\n",
    "if res != None:\n",
    "    print(res.span())\n",
    "    print(res.group())"
   ]
  },
  {
   "cell_type": "code",
   "execution_count": null,
   "id": "equipped-barbados",
   "metadata": {},
   "outputs": [],
   "source": [
    "res = re.search('\\d{4}', x)\n",
    "print(res)"
   ]
  },
  {
   "cell_type": "code",
   "execution_count": null,
   "id": "dried-latex",
   "metadata": {},
   "outputs": [],
   "source": [
    "print(x)"
   ]
  },
  {
   "cell_type": "code",
   "execution_count": null,
   "id": "occasional-vermont",
   "metadata": {},
   "outputs": [],
   "source": [
    "res = re.match(r'abce', x)\n",
    "print(res)\n",
    "if res != None:\n",
    "    print(res.span())"
   ]
  },
  {
   "cell_type": "code",
   "execution_count": null,
   "id": "double-offer",
   "metadata": {},
   "outputs": [],
   "source": [
    "res = re.search(r'[abcd]+', x)\n",
    "print(res)\n",
    "if res != None:\n",
    "    print(res.span())\n",
    "    print(res.group())"
   ]
  },
  {
   "cell_type": "code",
   "execution_count": null,
   "id": "bronze-deployment",
   "metadata": {},
   "outputs": [],
   "source": [
    "s = \"Hello\"    #String Object\n",
    "s.find('l')\n",
    "r = list(s)    #List Object\n",
    "r.index()"
   ]
  },
  {
   "cell_type": "code",
   "execution_count": null,
   "id": "speaking-glossary",
   "metadata": {},
   "outputs": [],
   "source": [
    "print(x)"
   ]
  },
  {
   "cell_type": "code",
   "execution_count": null,
   "id": "taken-aruba",
   "metadata": {},
   "outputs": [],
   "source": [
    "res = re.findall(r'[A-Z][a-z]', x)\n",
    "print(res)    # List Object"
   ]
  },
  {
   "cell_type": "markdown",
   "id": "applicable-acting",
   "metadata": {},
   "source": [
    "We use group() method to get all the matches and captured groups. \n",
    "The groups contain the matched values.\n",
    "In particular:\n",
    "- match.group(0) always returns the fully matched string\n",
    "- match.group(1) match.group(2), ... return the captured groups in order from left to right in the input string\n",
    "- match.group() is equivalent to match.group(0)"
   ]
  },
  {
   "cell_type": "code",
   "execution_count": null,
   "id": "expressed-decision",
   "metadata": {},
   "outputs": [],
   "source": [
    "import re\n",
    "\n",
    "# regex1 = r\"[a-zA-Z]+ \\d{2} \\d{4}\"\n",
    "\n",
    "regex = r\"([a-zA-Z]+) (\\d{2}) (\\d{4})\"\n",
    "\n",
    "string = \"My name is Harshil. I was born on January 24 2012\"\n",
    "\n",
    "s = re.search(regex, string)\n",
    "print(s)\n",
    "\n",
    "# So this will print \"June 24\"\n",
    "print (\"Full match: %s\" % (s.group()))\n",
    "  \n",
    "# So this will print \"June\"\n",
    "print (\"Month: %s\" % (s.group(1)))\n",
    "  \n",
    "# So this will print \"24\"\n",
    "print (\"Day: %s\" % (s.group(2)))\n",
    "\n",
    "# So this will print \"2012\"\n",
    "print (\"Year: %s\" % (s.group(3)))"
   ]
  },
  {
   "cell_type": "code",
   "execution_count": null,
   "id": "neither-pride",
   "metadata": {},
   "outputs": [],
   "source": [
    "print(x)"
   ]
  },
  {
   "cell_type": "code",
   "execution_count": null,
   "id": "martial-contents",
   "metadata": {},
   "outputs": [],
   "source": [
    "res1 = re.search(r'Mr\\.', x)\n",
    "print(res1)"
   ]
  },
  {
   "cell_type": "code",
   "execution_count": null,
   "id": "early-hayes",
   "metadata": {},
   "outputs": [],
   "source": [
    "res1 = re.search(r'Mrs?\\. [a-zA-Z]+', x)\n",
    "print(res1)\n",
    "res1.span()"
   ]
  },
  {
   "cell_type": "code",
   "execution_count": null,
   "id": "directed-business",
   "metadata": {},
   "outputs": [],
   "source": [
    "res = re.findall(r'Mrs?\\. [a-zA-Z]+', x)\n",
    "print(res)"
   ]
  },
  {
   "cell_type": "code",
   "execution_count": null,
   "id": "special-effects",
   "metadata": {},
   "outputs": [],
   "source": [
    "print(x)"
   ]
  },
  {
   "cell_type": "code",
   "execution_count": null,
   "id": "asian-acrylic",
   "metadata": {},
   "outputs": [],
   "source": [
    "t = range(2,7)    # Iterator Collection\n",
    "print(type(t))\n",
    "l = [2,3,4,5,6]   # List Collection\n",
    "# for x in t:\n",
    "d = {1:2, 3:4}    # Dictionary Collection\n",
    "d.keys()          # Iterator Collection\n"
   ]
  },
  {
   "cell_type": "code",
   "execution_count": 141,
   "id": "infrared-desperate",
   "metadata": {},
   "outputs": [
    {
     "name": "stdout",
     "output_type": "stream",
     "text": [
      "abcdefghijklmnopqrstuvwxyz\n",
      "ABCDEFGHIJKLMNOPQRSTUVWXYZ\n",
      "some.one@gmail.com\n",
      "anything123@gmail.com\n",
      "12345-67890-123\n",
      "9354-328-885\n",
      "9354.328.885\n",
      "Mr. Someone\n",
      "Mr. Anything\n"
     ]
    }
   ],
   "source": [
    "print(x)"
   ]
  },
  {
   "cell_type": "code",
   "execution_count": 143,
   "id": "normal-replacement",
   "metadata": {},
   "outputs": [
    {
     "name": "stdout",
     "output_type": "stream",
     "text": [
      "['Mr. Someone', 'Mr. Anything']\n"
     ]
    }
   ],
   "source": [
    "res = re.findall(r'Mrs?[.] [a-zA-Z]+', x)\n",
    "print(res)"
   ]
  },
  {
   "cell_type": "code",
   "execution_count": 64,
   "id": "unavailable-board",
   "metadata": {},
   "outputs": [
    {
     "name": "stdout",
     "output_type": "stream",
     "text": [
      "<callable_iterator object at 0x00000141FA9F0760>\n",
      "(137, 148)\n",
      "Mr. Someone\n",
      "\n",
      "(149, 161)\n",
      "Mr. Anything\n",
      "\n"
     ]
    }
   ],
   "source": [
    "res = re.finditer(r'Mrs?[.] [a-zA-Z]+', x)\n",
    "print(res)\n",
    "for i in res:\n",
    "    print(i.span())\n",
    "    print(i.group())\n",
    "    print()"
   ]
  },
  {
   "cell_type": "code",
   "execution_count": 145,
   "id": "german-cleveland",
   "metadata": {},
   "outputs": [
    {
     "name": "stdout",
     "output_type": "stream",
     "text": [
      "<callable_iterator object at 0x0000015623609CA0>\n",
      "(137, 148)\n",
      "Mr. Someone\n",
      "\n",
      "(149, 161)\n",
      "Mr. Anything\n",
      "\n"
     ]
    }
   ],
   "source": [
    "res = re.finditer(r'Mrs?\\. [a-zA-Z]+', x)\n",
    "print(res)\n",
    "for i in res:\n",
    "    print(i.span())\n",
    "    print(i.group())\n",
    "    print()"
   ]
  },
  {
   "cell_type": "code",
   "execution_count": 29,
   "id": "nearby-retail",
   "metadata": {},
   "outputs": [
    {
     "name": "stdout",
     "output_type": "stream",
     "text": [
      "Enter Date of Birth: 27/12/1990\n",
      "['27', '12', '1990']\n"
     ]
    }
   ],
   "source": [
    "dob = input('Enter Date of Birth: ')\n",
    "dl = dob.split(\"/\")\n",
    "print(dl)"
   ]
  },
  {
   "cell_type": "code",
   "execution_count": 30,
   "id": "adopted-reservoir",
   "metadata": {},
   "outputs": [
    {
     "name": "stdout",
     "output_type": "stream",
     "text": [
      "Enter Date of Birth: 27/12:1990\n",
      "['27', '12:1990']\n"
     ]
    }
   ],
   "source": [
    "dob = input('Enter Date of Birth: ')\n",
    "dl = dob.split(\"/\")\n",
    "print(dl)"
   ]
  },
  {
   "cell_type": "code",
   "execution_count": 38,
   "id": "forbidden-state",
   "metadata": {},
   "outputs": [
    {
     "name": "stdout",
     "output_type": "stream",
     "text": [
      "Enter Date of Birth: 27/12:::::::::::::::1990\n",
      "['27', '12', '1990']\n"
     ]
    }
   ],
   "source": [
    "dob = input('Enter Date of Birth: ')\n",
    "dl = re.split(\"[/:]+\", dob)\n",
    "print(dl)"
   ]
  },
  {
   "cell_type": "code",
   "execution_count": 32,
   "id": "twenty-marshall",
   "metadata": {},
   "outputs": [
    {
     "name": "stdout",
     "output_type": "stream",
     "text": [
      "Enter name: Harshil Bansal\n",
      "['Harshil', 'Bansal']\n"
     ]
    }
   ],
   "source": [
    "name = input('Enter name: ')\n",
    "nl = name.split(\" \")\n",
    "print(nl)"
   ]
  },
  {
   "cell_type": "code",
   "execution_count": 36,
   "id": "worldwide-hebrew",
   "metadata": {},
   "outputs": [
    {
     "name": "stdout",
     "output_type": "stream",
     "text": [
      "Enter name: Harshil              Bansal\n",
      "['Harshil', '', '', '', '', '', '', '', '', '', '', '', '', '', 'Bansal']\n"
     ]
    }
   ],
   "source": [
    "name = input('Enter name: ')\n",
    "nl = name.split(\" \")\n",
    "print(nl)"
   ]
  },
  {
   "cell_type": "code",
   "execution_count": 34,
   "id": "conventional-community",
   "metadata": {},
   "outputs": [
    {
     "name": "stdout",
     "output_type": "stream",
     "text": [
      "Enter name: Harshil Bansal\n",
      "['Harshil', 'Bansal']\n"
     ]
    }
   ],
   "source": [
    "name = input('Enter name: ')\n",
    "nl = re.split(\"[ ]+\", name)\n",
    "print(nl)"
   ]
  },
  {
   "cell_type": "code",
   "execution_count": 44,
   "id": "advanced-exclusion",
   "metadata": {},
   "outputs": [],
   "source": [
    "re.split?"
   ]
  },
  {
   "cell_type": "code",
   "execution_count": 35,
   "id": "suspended-natural",
   "metadata": {},
   "outputs": [
    {
     "name": "stdout",
     "output_type": "stream",
     "text": [
      "Enter name: Harshil        Bansal\n",
      "['Harshil', 'Bansal']\n"
     ]
    }
   ],
   "source": [
    "name = input('Enter name: ')\n",
    "nl = re.split(\"[ ]+\", name)\n",
    "print(nl)"
   ]
  },
  {
   "cell_type": "code",
   "execution_count": 41,
   "id": "every-printing",
   "metadata": {},
   "outputs": [
    {
     "name": "stdout",
     "output_type": "stream",
     "text": [
      "Enter Date of Birth: 27/12-1990\n",
      "27:12-1990\n"
     ]
    }
   ],
   "source": [
    "dob = input('Enter Date of Birth: ')\n",
    "do = dob.replace(\"/\", ':')\n",
    "print(do)"
   ]
  },
  {
   "cell_type": "code",
   "execution_count": 43,
   "id": "precise-nudist",
   "metadata": {},
   "outputs": [
    {
     "name": "stdout",
     "output_type": "stream",
     "text": [
      "Enter Date of Birth: 27/12-1990\n",
      "27:12:1990\n"
     ]
    }
   ],
   "source": [
    "dob = input('Enter Date of Birth: ')\n",
    "do = re.sub(\"[/-]\", ':', dob)\n",
    "print(do)"
   ]
  },
  {
   "cell_type": "code",
   "execution_count": null,
   "id": "typical-injury",
   "metadata": {},
   "outputs": [],
   "source": []
  }
 ],
 "metadata": {
  "kernelspec": {
   "display_name": "Python 3 (ipykernel)",
   "language": "python",
   "name": "python3"
  },
  "language_info": {
   "codemirror_mode": {
    "name": "ipython",
    "version": 3
   },
   "file_extension": ".py",
   "mimetype": "text/x-python",
   "name": "python",
   "nbconvert_exporter": "python",
   "pygments_lexer": "ipython3",
   "version": "3.10.9"
  }
 },
 "nbformat": 4,
 "nbformat_minor": 5
}
